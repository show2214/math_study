{
 "cells": [
  {
   "cell_type": "markdown",
   "source": [
    "Exercise 4-1-9"
   ],
   "metadata": {}
  },
  {
   "cell_type": "code",
   "execution_count": null,
   "source": [
    "import numpy as np\n",
    "\n",
    "a = 1\n",
    "b = np.array([2, 3, 4])\n",
    "c = np.array([[5, 6, 7], [8, 9, 10]])\n",
    "d = np.array([[[11, 12, 13], [14, 15, 16]], [[17, 18, 19], [20, 21, 22]]])\n",
    "\n",
    "print(a)\n",
    "print(b)\n",
    "print(c)\n",
    "print(d)"
   ],
   "outputs": [],
   "metadata": {}
  },
  {
   "cell_type": "markdown",
   "source": [
    "Execise 4-2-5"
   ],
   "metadata": {}
  },
  {
   "cell_type": "code",
   "execution_count": null,
   "source": [
    "import numpy as np\n",
    "\n",
    "a = np.array([1, -2, 2])\n",
    "b = np.array([2, -2, 1])\n",
    "\n",
    "print(\"dot\", np.dot(a, b))\n",
    "print(\"L2 norm\", np.linalg.norm(a))\n",
    "print(\"L1 norm\", np.linalg.norm(a, 1))"
   ],
   "outputs": [],
   "metadata": {}
  },
  {
   "cell_type": "markdown",
   "source": [
    "Exercise 4-3-7"
   ],
   "metadata": {}
  },
  {
   "cell_type": "code",
   "execution_count": null,
   "source": [
    "import numpy as np\n",
    "\n",
    "a = np.array([[0, 1, 2], [1, 2, 3]])\n",
    "b = np.array([[0, 1], [1, 2], [2, 3]])\n",
    "\n",
    "print(np.dot(a, b))\n",
    "\n",
    "c = np.array([[0, 1, 2], [3, 4, 5], [6, 7, 8]])\n",
    "d = np.array([[0, 2, 0], [2, 0, 2], [0, 2, 0]])\n",
    "\n",
    "print(c * d)"
   ],
   "outputs": [],
   "metadata": {}
  },
  {
   "cell_type": "markdown",
   "source": [
    "Exercise 4-4-5"
   ],
   "metadata": {}
  },
  {
   "cell_type": "code",
   "execution_count": null,
   "source": [
    "import numpy as np\n",
    "\n",
    "a = np.array([[0, 1, 2], [1, 2, 3]])\n",
    "b = np.array([[0, 1, 2], [2, 3, 4]])\n",
    "\n",
    "print(np.dot(a, b.T))"
   ],
   "outputs": [],
   "metadata": {}
  },
  {
   "cell_type": "markdown",
   "source": [
    "Exercise 4-5-7"
   ],
   "metadata": {}
  },
  {
   "cell_type": "code",
   "execution_count": null,
   "source": [
    "import numpy as np\n",
    "\n",
    "a = np.array([[1, 1], [1, 2]])\n",
    "\n",
    "print(np.linalg.det(a))\n",
    "print(np.linalg.inv(a))"
   ],
   "outputs": [],
   "metadata": {}
  },
  {
   "cell_type": "markdown",
   "source": [
    "Exercise 4-6-4"
   ],
   "metadata": {}
  },
  {
   "cell_type": "code",
   "execution_count": null,
   "source": [
    "import numpy as np\n",
    "import matplotlib.pyplot as plt\n",
    "\n",
    "a = np.array([1, 3])\n",
    "\n",
    "A = np.array([[1, -1], [2, -1]])\n",
    "\n",
    "b = np.dot(A, a)\n",
    "\n",
    "print(\"a\", a)\n",
    "print(\"b\", b)\n",
    "\n",
    "def arrow(start, size, color):\n",
    "    plt.quiver(start[0], start[1], size[0], size[1], angles=\"xy\", scale_units=\"xy\", scale=1, color=color)\n",
    "\n",
    "s = np.array([0, 0])\n",
    "\n",
    "arrow(s, a, color=\"black\")\n",
    "arrow(s, b, color=\"blue\")\n",
    "\n",
    "plot = plt.subplot()\n",
    "plot.set_xlim([-3, 3])\n",
    "plot.set_ylim([-3, 3])\n",
    "plot.set_xlabel(\"x\", size=14)\n",
    "plot.set_ylabel(\"y\", size=14)\n",
    "plot.grid()\n",
    "plot.set_aspect('equal')"
   ],
   "outputs": [],
   "metadata": {}
  },
  {
   "cell_type": "markdown",
   "source": [
    "Exercise 4-7-4"
   ],
   "metadata": {}
  },
  {
   "cell_type": "code",
   "execution_count": null,
   "source": [
    "import numpy as np\n",
    "\n",
    "a = np.array([[-2, 4], [-1, 3]])\n",
    "\n",
    "ev = np.linalg.eig(a)\n",
    "\n",
    "print(ev[0])\n",
    "\n",
    "print()\n",
    "\n",
    "print(ev[1])"
   ],
   "outputs": [],
   "metadata": {}
  },
  {
   "cell_type": "markdown",
   "source": [
    "Exercise 4-8-3"
   ],
   "metadata": {}
  },
  {
   "cell_type": "code",
   "execution_count": null,
   "source": [
    "import numpy as np\n",
    "\n",
    "def cos_sim(vec_1, vec_2):\n",
    "    return np.dot(vec_1, vec_2) / (np.linalg.norm(vec_1))\n",
    "\n",
    "a = np.array([2, 0, 1, 0])\n",
    "b = np.array([0, 1, 0, 2])\n",
    "\n",
    "print(\"cos similarity\")\n",
    "print(cos_sim(a, b))"
   ],
   "outputs": [],
   "metadata": {}
  }
 ],
 "metadata": {
  "orig_nbformat": 4,
  "language_info": {
   "name": "python",
   "version": "3.9.7",
   "mimetype": "text/x-python",
   "codemirror_mode": {
    "name": "ipython",
    "version": 3
   },
   "pygments_lexer": "ipython3",
   "nbconvert_exporter": "python",
   "file_extension": ".py"
  },
  "kernelspec": {
   "name": "python3",
   "display_name": "Python 3.9.7 64-bit"
  },
  "interpreter": {
   "hash": "aee8b7b246df8f9039afb4144a1f6fd8d2ca17a180786b69acc140d282b71a49"
  }
 },
 "nbformat": 4,
 "nbformat_minor": 2
}