{
 "cells": [
  {
   "cell_type": "markdown",
   "source": [
    "Exercise 5-1-5"
   ],
   "metadata": {}
  },
  {
   "cell_type": "code",
   "execution_count": null,
   "source": [
    "import numpy as np\n",
    "import matplotlib.pyplot as plt\n",
    "\n",
    "def my_func(x):\n",
    "    return -2 * x ** 2 + x + 3\n",
    "\n",
    "def my_func_dif(x):\n",
    "    return -4 * x + 1\n",
    "\n",
    "x = np.linspace(-3, 3)\n",
    "y = my_func(x)\n",
    "\n",
    "a = 1\n",
    "y_t = my_func_dif(a) * x + my_func(a) - my_func_dif(a) * a\n",
    "\n",
    "plt.plot(x, y, label=\"y\")\n",
    "plt.plot(x, y_t, label=\"y_t\")\n",
    "\n",
    "plt.xlabel(\"x\", size=14)\n",
    "plt.ylabel(\"y\", size=14)\n",
    "plt.grid()\n",
    "\n",
    "plt.legend()\n",
    "plt.show()"
   ],
   "outputs": [],
   "metadata": {}
  },
  {
   "cell_type": "markdown",
   "source": [
    "Exercise 5-2-4"
   ],
   "metadata": {}
  },
  {
   "cell_type": "markdown",
   "source": [
    "$$\\frac{dy}{dx}=4(x^2+4x+1)^3(2x+4)$$"
   ],
   "metadata": {}
  },
  {
   "cell_type": "markdown",
   "source": [
    "Exercise 5-3-3"
   ],
   "metadata": {}
  },
  {
   "cell_type": "markdown",
   "source": [
    "$$\\frac∂{∂x}=6x^2+8x+y^2$$\n",
    "$$\\frac∂{∂y}=4x^2+2xy-8y$$"
   ],
   "metadata": {}
  },
  {
   "cell_type": "markdown",
   "source": [
    "Exercise 5-4-4"
   ],
   "metadata": {}
  },
  {
   "cell_type": "markdown",
   "source": [
    "$$dz=(6x^2+8xy+y^2)dx+(4x^2+2xy-8y)dy$$"
   ],
   "metadata": {}
  },
  {
   "cell_type": "markdown",
   "source": [
    "Exercise 5-5-4"
   ],
   "metadata": {}
  },
  {
   "cell_type": "markdown",
   "source": [
    "$$\\frac{dz}{dx}=(6(x^2+3x)^2+(x+7)^2)(2x+3)+2(x^2+3x)(x+7)+4$$"
   ],
   "metadata": {}
  },
  {
   "cell_type": "markdown",
   "source": [
    "Exercise 5-6-7"
   ],
   "metadata": {}
  },
  {
   "cell_type": "code",
   "execution_count": null,
   "source": [
    "import numpy as np\n",
    "\n",
    "def approach_napier(n):\n",
    "    return (1 + 1 / n) ** n\n",
    "\n",
    "n_list = [2, 4, 10, 20, 40, 80, 160, 320, 640, 1280, 2560, 5120, 10240]\n",
    "for n in n_list:\n",
    "    print(\"a_\" + str(n) + \" =\", approach_napier(n))"
   ],
   "outputs": [],
   "metadata": {}
  },
  {
   "cell_type": "markdown",
   "source": [
    "Exercise 5-7-4"
   ],
   "metadata": {}
  },
  {
   "cell_type": "code",
   "execution_count": null,
   "source": [
    "import numpy as np\n",
    "import matplotlib.pyplot as plt\n",
    "\n",
    "def my_func(x):\n",
    "    return x ** 4 - 2 * x ** 3 - 3 * x ** 2 + 2 * x\n",
    "\n",
    "def grad_func(x):\n",
    "    return 4 * x ** 3 - 6 * x ** 2 - 6 * x + 2\n",
    "\n",
    "eta = 0.01\n",
    "x = 2\n",
    "record_x = []\n",
    "record_y = []\n",
    "for i in range(20):\n",
    "    y = my_func(x)\n",
    "    record_x.append(x)\n",
    "    record_y.append(y)\n",
    "    x -= eta * grad_func(x)\n",
    "\n",
    "x_f = np.linspace(-1.6, 2.8)\n",
    "y_f = my_func(x_f)\n",
    "\n",
    "plt.plot(x_f, y_f, linestyle=\"dashed\")\n",
    "plt.scatter(record_x, record_y)\n",
    "\n",
    "plt.xlabel(\"x\", size=14)\n",
    "plt.ylabel(\"y\", size=14)\n",
    "plt.grid()\n",
    "\n",
    "plt.show()"
   ],
   "outputs": [],
   "metadata": {}
  }
 ],
 "metadata": {
  "orig_nbformat": 4,
  "language_info": {
   "name": "python"
  }
 },
 "nbformat": 4,
 "nbformat_minor": 2
}