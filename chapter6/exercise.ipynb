{
 "cells": [
  {
   "cell_type": "markdown",
   "source": [
    "Exercise 6-1-4"
   ],
   "metadata": {}
  },
  {
   "cell_type": "code",
   "execution_count": null,
   "source": [
    "import numpy as np\n",
    "import matplotlib.pyplot as plt\n",
    "\n",
    "x = []\n",
    "y = []\n",
    "total = 0\n",
    "num_front = 0\n",
    "n = 5000\n",
    "\n",
    "for i in range(n):\n",
    "    if np.random.randint(2) + 1 == 1:\n",
    "        num_front += 1\n",
    "    total += 1\n",
    "    x.append(i)\n",
    "    y.append(num_front / total)\n",
    "\n",
    "plt.plot(x, y)\n",
    "plt.plot(x, [1/2] * n, linestyle=\"dashed\")\n",
    "\n",
    "plt.xlabel(\"x\", size=14)\n",
    "plt.ylabel(\"y\", size=14)\n",
    "plt.grid()\n",
    "\n",
    "plt.show()"
   ],
   "outputs": [],
   "metadata": {}
  },
  {
   "cell_type": "markdown",
   "source": [
    "Exercise 6-2-6"
   ],
   "metadata": {}
  },
  {
   "cell_type": "code",
   "execution_count": null,
   "source": [
    "import numpy as np\n",
    "import matplotlib.pyplot as plt\n",
    "\n",
    "p = np.array([0.75, 0.23, 0.02])\n",
    "x = np.array([100, 500, 10000])\n",
    "\n",
    "print(np.sum(p*x))"
   ],
   "outputs": [],
   "metadata": {}
  },
  {
   "cell_type": "markdown",
   "source": [
    "Exercise 6-3-5"
   ],
   "metadata": {}
  },
  {
   "cell_type": "code",
   "execution_count": null,
   "source": [
    "import numpy as np\n",
    "\n",
    "x = np.array([51, 49, 52, 48])\n",
    "\n",
    "print(np.var(x))\n",
    "print(np.std(x))"
   ],
   "outputs": [],
   "metadata": {}
  },
  {
   "cell_type": "markdown",
   "source": [
    "Exercise 6-4-6"
   ],
   "metadata": {}
  },
  {
   "cell_type": "code",
   "execution_count": null,
   "source": [
    "import numpy as np\n",
    "import matplotlib.pyplot as plt\n",
    "\n",
    "x = np.random.normal(0, 1, 10000)\n",
    "\n",
    "plt.hist(x, bins=25)\n",
    "plt.show()"
   ],
   "outputs": [],
   "metadata": {}
  },
  {
   "cell_type": "markdown",
   "source": [
    "Exercise 6-5-5"
   ],
   "metadata": {}
  },
  {
   "cell_type": "code",
   "execution_count": null,
   "source": [
    "import numpy as np\n",
    "import matplotlib.pyplot as plt\n",
    "\n",
    "x = np.array([30, 70, 40, 60, 90])\n",
    "y = np.array([20, 60, 50, 40, 80])\n",
    "\n",
    "cov_xy = np.average((x - np.average(x))*((y - np.average(y))))\n",
    "print(\"--- cov_xy ---\", cov_xy)\n",
    "\n",
    "plt.scatter(x, y, marker=\"o\", label=\"xy\", s=40)\n",
    "plt.legend()\n",
    "\n",
    "plt.xlabel(\"x\", size=14)\n",
    "plt.ylabel(\"y\", size=14)\n",
    "plt.grid()\n",
    "\n",
    "plt.show()"
   ],
   "outputs": [],
   "metadata": {}
  },
  {
   "cell_type": "markdown",
   "source": [
    "Exercise 6-6-4"
   ],
   "metadata": {}
  },
  {
   "cell_type": "code",
   "execution_count": null,
   "source": [
    "import numpy as np\n",
    "import matplotlib.pyplot as plt\n",
    "\n",
    "x = np.array([30, 70, 40, 60, 90])\n",
    "y = np.array([20, 60, 50, 40, 80])\n",
    "\n",
    "print(\"--- corrcoef ---\")\n",
    "print(np.corrcoef(x, y))\n",
    "\n",
    "print()\n",
    "\n",
    "print(\"--- cov and std ---\")\n",
    "cov_xy = np.average((x - np.average(x))*((y - np.average(y))))\n",
    "print(cov_xy / (np.std(x) * np.std(y)))\n",
    "\n",
    "plt.scatter(x, y)\n",
    "\n",
    "plt.xlabel(\"x\", size=14)\n",
    "plt.ylabel(\"y\", size=14)\n",
    "plt.grid()\n",
    "\n",
    "plt.show()"
   ],
   "outputs": [],
   "metadata": {}
  },
  {
   "cell_type": "markdown",
   "source": [
    "Exercise 6-7-5"
   ],
   "metadata": {}
  },
  {
   "cell_type": "markdown",
   "source": [
    "$$P(A|B)=\\frac23$$"
   ],
   "metadata": {}
  },
  {
   "cell_type": "markdown",
   "source": [
    "Exercise 6-8-5"
   ],
   "metadata": {}
  },
  {
   "cell_type": "code",
   "execution_count": null,
   "source": [
    "import numpy as np\n",
    "import matplotlib.pyplot as plt\n",
    "\n",
    "x_data = np.array([2.4, 1.2, 3.5, 2.1, 4.7])\n",
    "y_data = np.zeros(5)\n",
    "\n",
    "mu = 4.0\n",
    "sigma = 0.8\n",
    "\n",
    "def pdf(x, mu, sigma):\n",
    "    return 1 / (sigma * np.sqrt(2 * np.pi)) * np.exp(-(x-mu) ** 2 / (2 * sigma ** 2))\n",
    "\n",
    "x_pdf = np.linspace(-1, 9)\n",
    "y_pdf = pdf(x_pdf, mu, sigma)\n",
    "\n",
    "plt.scatter(x_data, y_data)\n",
    "plt.plot(x_pdf, y_pdf)\n",
    "\n",
    "plt.xlabel(\"x\", size=14)\n",
    "plt.ylabel(\"y\", size=14)\n",
    "plt.grid()\n",
    "\n",
    "plt.show()\n",
    "\n",
    "print(\"--- like ---\")\n",
    "print(np.prod(pdf(x_data, mu, sigma)))\n",
    "\n",
    "print(\"--- log like ---\")\n",
    "print(np.sum(np.log(pdf(x_data, mu, sigma))))"
   ],
   "outputs": [],
   "metadata": {}
  },
  {
   "cell_type": "markdown",
   "source": [
    "Exercise 6-9-8"
   ],
   "metadata": {}
  },
  {
   "cell_type": "code",
   "execution_count": null,
   "source": [
    "import numpy as np\n",
    "\n",
    "p = 0.6\n",
    "\n",
    "print(-p * np.log2(p)- (1-p) * np.log2(1-p))"
   ],
   "outputs": [],
   "metadata": {}
  }
 ],
 "metadata": {
  "orig_nbformat": 4,
  "language_info": {
   "name": "python",
   "version": "3.9.7",
   "mimetype": "text/x-python",
   "codemirror_mode": {
    "name": "ipython",
    "version": 3
   },
   "pygments_lexer": "ipython3",
   "nbconvert_exporter": "python",
   "file_extension": ".py"
  },
  "kernelspec": {
   "name": "python3",
   "display_name": "Python 3.9.7 64-bit"
  },
  "interpreter": {
   "hash": "aee8b7b246df8f9039afb4144a1f6fd8d2ca17a180786b69acc140d282b71a49"
  }
 },
 "nbformat": 4,
 "nbformat_minor": 2
}