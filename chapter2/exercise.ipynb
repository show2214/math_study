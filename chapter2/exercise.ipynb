{
 "cells": [
  {
   "cell_type": "markdown",
   "source": [
    "Exercise 2-1-12"
   ],
   "metadata": {}
  },
  {
   "cell_type": "code",
   "execution_count": null,
   "source": [
    "# -- list --\n",
    "print(\"-- list --\")\n",
    "test_list = [1, 2, 3, 4]\n",
    "print([i * 10 for i in test_list])\n",
    "\n",
    "# -- tuple --\n",
    "print(\"-- tuple --\")\n",
    "test_tuple = (1, 2)\n",
    "print(test_tuple[1])\n",
    "\n",
    "# -- if --\n",
    "print(\"-- if --\")\n",
    "branch = True\n",
    "if branch:\n",
    "    print(\"branch is True\")\n",
    "else:\n",
    "    print(\"branch is False\")\n",
    "\n",
    "# -- for --\n",
    "print(\"-- for --\")\n",
    "for i in range(10):\n",
    "    print(i)\n",
    "\n",
    "# -- function --\n",
    "print(\"-- function --\")\n",
    "def test_func(a, b):\n",
    "    print(a, b)\n",
    "\n",
    "test_func(test_list, test_tuple)"
   ],
   "outputs": [],
   "metadata": {}
  },
  {
   "cell_type": "markdown",
   "source": [
    "Exercise 2-2-9"
   ],
   "metadata": {}
  },
  {
   "cell_type": "code",
   "execution_count": null,
   "source": [
    "import numpy as np\n",
    "\n",
    "x = np.array([[1, 2], [3, 4]])\n",
    "y = np.array([[5, 6], [7, 8]])\n",
    "print(\"add \", x + y)\n",
    "print(\"sub \", x - y)\n",
    "print(\"mul \", x * y)"
   ],
   "outputs": [],
   "metadata": {}
  },
  {
   "cell_type": "markdown",
   "source": [
    "Exercise 2-3-8"
   ],
   "metadata": {}
  },
  {
   "cell_type": "code",
   "execution_count": null,
   "source": [
    "import matplotlib.pyplot as plt\n",
    "import numpy as np\n",
    "\n",
    "x = np.linspace(-10, 10)\n",
    "y_1 = 3 * x\n",
    "y_2 = 0.5 * x ** 2\n",
    "\n",
    "plt.xlabel(\"x value\", size=14)\n",
    "plt.ylabel(\"y value\", size=14)\n",
    "\n",
    "plt.title(\"My Graph\")\n",
    "\n",
    "plt.grid()\n",
    "\n",
    "plt.plot(x, y_1, label=\"y1\")\n",
    "plt.plot(x, y_2, label=\"y2\", linestyle=\"dashed\")\n",
    "plt.legend()\n",
    "\n",
    "plt.show()"
   ],
   "outputs": [],
   "metadata": {}
  }
 ],
 "metadata": {
  "orig_nbformat": 4,
  "language_info": {
   "name": "python",
   "version": "3.9.7",
   "mimetype": "text/x-python",
   "codemirror_mode": {
    "name": "ipython",
    "version": 3
   },
   "pygments_lexer": "ipython3",
   "nbconvert_exporter": "python",
   "file_extension": ".py"
  },
  "kernelspec": {
   "name": "python3",
   "display_name": "Python 3.9.7 64-bit"
  },
  "interpreter": {
   "hash": "aee8b7b246df8f9039afb4144a1f6fd8d2ca17a180786b69acc140d282b71a49"
  }
 },
 "nbformat": 4,
 "nbformat_minor": 2
}